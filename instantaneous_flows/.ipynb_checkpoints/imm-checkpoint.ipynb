{
 "cells": [
  {
   "cell_type": "markdown",
   "metadata": {},
   "source": [
    "# Workflow + Figures"
   ]
  },
  {
   "cell_type": "code",
   "execution_count": 1,
   "metadata": {},
   "outputs": [
    {
     "ename": "FileNotFoundError",
     "evalue": "[Errno 2] No such file or directory: '../models/IMMAB4/1.out'",
     "output_type": "error",
     "traceback": [
      "\u001b[0;31m---------------------------------------------------------------------------\u001b[0m",
      "\u001b[0;31mFileNotFoundError\u001b[0m                         Traceback (most recent call last)",
      "\u001b[0;32m<ipython-input-1-7e3fd6afd95a>\u001b[0m in \u001b[0;36m<module>\u001b[0;34m\u001b[0m\n\u001b[1;32m     13\u001b[0m     \u001b[0mfile\u001b[0m \u001b[0;34m=\u001b[0m \u001b[0;34m'../models/IMMAB4/{}.out'\u001b[0m\u001b[0;34m.\u001b[0m\u001b[0mformat\u001b[0m\u001b[0;34m(\u001b[0m\u001b[0mi\u001b[0m\u001b[0;34m)\u001b[0m\u001b[0;34m\u001b[0m\u001b[0;34m\u001b[0m\u001b[0m\n\u001b[1;32m     14\u001b[0m \u001b[0;34m\u001b[0m\u001b[0m\n\u001b[0;32m---> 15\u001b[0;31m     \u001b[0;32mwith\u001b[0m \u001b[0mopen\u001b[0m\u001b[0;34m(\u001b[0m\u001b[0mfile\u001b[0m\u001b[0;34m)\u001b[0m \u001b[0;32mas\u001b[0m \u001b[0mf\u001b[0m\u001b[0;34m:\u001b[0m\u001b[0;34m\u001b[0m\u001b[0;34m\u001b[0m\u001b[0m\n\u001b[0m\u001b[1;32m     16\u001b[0m         \u001b[0mage\u001b[0m\u001b[0;34m.\u001b[0m\u001b[0mappend\u001b[0m\u001b[0;34m(\u001b[0m\u001b[0mfloat\u001b[0m\u001b[0;34m(\u001b[0m\u001b[0mf\u001b[0m\u001b[0;34m.\u001b[0m\u001b[0mreadline\u001b[0m\u001b[0;34m(\u001b[0m\u001b[0;34m)\u001b[0m\u001b[0;34m)\u001b[0m\u001b[0;34m)\u001b[0m\u001b[0;34m\u001b[0m\u001b[0;34m\u001b[0m\u001b[0m\n\u001b[1;32m     17\u001b[0m \u001b[0;34m\u001b[0m\u001b[0m\n",
      "\u001b[0;31mFileNotFoundError\u001b[0m: [Errno 2] No such file or directory: '../models/IMMAB4/1.out'"
     ]
    }
   ],
   "source": [
    "import numpy as np\n",
    "import matplotlib.pyplot as plt\n",
    "import dipole_bound as db\n",
    "import os\n",
    "\n",
    "\n",
    "#Read in data from IMMAB4 model\n",
    "gauss_coeffs = []\n",
    "age = []\n",
    "\n",
    "for i in range(1,301):\n",
    "\n",
    "    file = '../models/IMMAB4/{}.out'.format(i)\n",
    "\n",
    "    with open(file) as f:\n",
    "        age.append(float(f.readline()))\n",
    "\n",
    "    gauss_coeffs.append(np.genfromtxt(file, skip_header=1, usecols=(2,3)))\n",
    "\n",
    "age = np.array(age)\n",
    "gauss_coeffs = 1000*np.array(gauss_coeffs)\n",
    "lmax_B = 4"
   ]
  },
  {
   "cell_type": "markdown",
   "metadata": {},
   "source": [
    "# Gauss Coefficients within model"
   ]
  },
  {
   "cell_type": "code",
   "execution_count": null,
   "metadata": {},
   "outputs": [],
   "source": [
    "for i in range(gauss_coeffs.shape[1]):\n",
    "\n",
    "    plt.plot(age,gauss_coeffs[:,i,0],color=[0.5,0.5,0.5])\n",
    "    plt.plot(age,gauss_coeffs[:,i,1],color=[0.5,0.5,0.5])\n",
    "\n",
    "plt.plot(age,gauss_coeffs[:,0,0],'r')\n",
    "\n",
    "plt.xlabel('Age / ka')\n",
    "plt.ylabel('nT')\n",
    "plt.title('Axial Dipole vs all other coefficients')\n",
    "plt.show()"
   ]
  },
  {
   "cell_type": "markdown",
   "metadata": {},
   "source": [
    "# Optimised flows"
   ]
  },
  {
   "cell_type": "code",
   "execution_count": null,
   "metadata": {},
   "outputs": [],
   "source": [
    "\n",
    "if os.path.isfile('IMMAB4_roc.txt'):\n",
    "    data = np.genfromtxt('IMMAB4_roc.txt',skip_header=1)\n",
    "    age = data[:,0]\n",
    "    results = data[:,1:]\n",
    "else:\n",
    "    print('IMMAB4_roc.txt does not exist, recalculating...')\n",
    "      \n",
    "    results = np.zeros((age.size,2))\n",
    "    for i in range(age.size):\n",
    "\n",
    "        print('Calculating age {:.1f}'.format(age[i]))\n",
    "\n",
    "        dipole_rate, pol_ke, tor_ke = db.dipole_bound(lmax_B+1,lmax_B, gauss_coeffs[i,:,:], 13,\n",
    "                                                      toroidal_only=False,save_files=False)\n",
    "\n",
    "        results[i,0] = dipole_rate\n",
    "\n",
    "        dipole_rate, pol_ke, tor_ke = db.dipole_bound(lmax_B+1,lmax_B, gauss_coeffs[i,:,:], 13,\n",
    "                                                      toroidal_only=True, save_files=False)\n",
    "\n",
    "        results[i,1] = dipole_rate\n",
    "\n",
    "    np.savetxt('IMMAB4_roc.txt',np.hstack((age.reshape((len(age),1)),results)),header='age\\tunconstrained\\ttoroidal',delimiter='\\t')"
   ]
  },
  {
   "cell_type": "code",
   "execution_count": null,
   "metadata": {},
   "outputs": [],
   "source": [
    "plt.plot(age,results[:,0],label='Unconstrained')\n",
    "plt.plot(age,results[:,1],label='Toroidal only')\n",
    "\n",
    "reversal_idx = int(np.arange(age.size)[np.abs(gauss_coeffs[:,0,0])==np.min(np.abs(gauss_coeffs[:,0,0]))])\n",
    "plt.axvline(x=age[reversal_idx],color='k',label='g10 reversal')\n",
    "\n",
    "plt.xlabel('Age / ka')\n",
    "plt.ylabel('nT/yr')\n",
    "plt.title('Axial Dipole optimised rate of change')\n",
    "plt.legend(loc=0)\n",
    "plt.show()\n",
    "\n",
    "print('Rate at reversal age for unconstrained (toroidal) flow: {:.0f} ({:.0f}) nT/year  or  {:.0f} ({:.0f}) nT in 100 years'.format(float(results[reversal_idx,0]), float(results[reversal_idx,1]), float(100*results[reversal_idx,0]), float(100*results[reversal_idx,1])))"
   ]
  },
  {
   "cell_type": "code",
   "execution_count": null,
   "metadata": {},
   "outputs": [],
   "source": [
    "out = db.dipole_bound(lmax_B+1,lmax_B, gauss_coeffs[reversal_idx,:,:], 13, toroidal_only=False, save_files=True)\n",
    "\n",
    "lat, lon = np.linspace(89,-89,100), np.linspace(0,360,200)\n",
    "LON, LAT = np.meshgrid(lon,lat)\n",
    "Br, Bth, Bph = db.evaluate_B(gauss_coeffs[reversal_idx,:,:], lat, lon)\n",
    "\n",
    "print('Br (g10 = {:.1f}nT)'.format(gauss_coeffs[reversal_idx,0,0]))\n",
    "ax = db.setup_map_figure()\n",
    "im, cbar = db.plot_contourf(ax,LAT,LON,Br, 40, cmap='jet')\n",
    "cbar.set_label('Br [nT]')\n",
    "plt.show()\n",
    "\n",
    "print('Flow (unconstrained)')\n",
    "lons,lats,u,v = db.read_vectors()\n",
    "ax = db.setup_map_figure()\n",
    "im, cbar = db.plot_vectors(ax,lats,lons,u,v,density=3)\n",
    "plt.show()\n",
    "\n",
    "out = db.dipole_bound(lmax_B+1,lmax_B, gauss_coeffs[reversal_idx,:,:], 13, toroidal_only=True, save_files=True)\n",
    "\n",
    "print('Flow (toroidal)')\n",
    "lons,lats,u,v = db.read_vectors()\n",
    "ax = db.setup_map_figure()\n",
    "im, cbar = db.plot_vectors(ax,lats,lons,u,v,density=3)\n",
    "plt.show()"
   ]
  },
  {
   "cell_type": "markdown",
   "metadata": {},
   "source": [
    "## VGP records"
   ]
  },
  {
   "cell_type": "code",
   "execution_count": null,
   "metadata": {},
   "outputs": [],
   "source": [
    "#For specific sites, calculate VGP record\n",
    "\n",
    "Italy = [42.3, 13.2]\n",
    "SAfrica = [-30, 25]\n",
    "Japan = [37,140]\n",
    "Australia = [-30,130]\n",
    "\n",
    "colours = ['r','g','b','m']\n",
    "names = ['Italy', 'South Africa', 'Japan', 'Australia']\n",
    "countries = [Italy,SAfrica,Japan,Australia]\n",
    "\n",
    "#Add locations to names for the figure\n",
    "names = [names[i]+' (lat: {:.1f}˚, lon: {:.1f}˚E)'.format(*countries[i]) for i in range(4)]\n",
    "\n",
    "VGP_records = np.zeros((gauss_coeffs.shape[0],4))\n",
    "\n",
    "#Iterate over all countries and over all time\n",
    "plt.figure(figsize=(12,8))\n",
    "for j in range(len(countries)):\n",
    "\n",
    "    lat, lon = countries[j]\n",
    "\n",
    "    for i in range(gauss_coeffs.shape[0]):\n",
    "\n",
    "        #Evaluate B at location in space and time\n",
    "        Br, Bth, Bph = db.evaluate_B(gauss_coeffs[i,:,:], lat, lon)\n",
    "\n",
    "        #Calculate inclination, declination\n",
    "        B_hor = np.sqrt(Bth**2 + Bph**2)\n",
    "\n",
    "        f = (180/np.pi)\n",
    "        inc = f*np.arctan(-Br/B_hor)\n",
    "        dec = f*np.arctan2(Bph,-Bth)\n",
    "\n",
    "        #Find VGP latitude\n",
    "        m_lat = f*np.arctan(2/np.tan(inc/f))\n",
    "\n",
    "        #Check for double solution of tangent function as the value cannot be negative\n",
    "        if m_lat < 0:\n",
    "            m_lat = m_lat + 180\n",
    "\n",
    "        #Spherical law of cosines calculates the angular distance of the VGP from\n",
    "        #the north pole (VGP colatitude)\n",
    "        VGP = f*np.arccos(np.cos(m_lat/f)*np.cos((90-lat)/f) + np.sin((m_lat)/f)*np.sin((90-lat)/f)*np.cos(abs(dec/f)))\n",
    "\n",
    "        VGP_records[i,j] = 90 - VGP #convert from co-lat to lat\n",
    "        \n",
    "    plt.subplot(2,2,j+1)\n",
    "    plt.plot(age,VGP_records[:,j],color=colours[j])\n",
    "    plt.grid()\n",
    "\n",
    "    plt.axvline(x=age[reversal_idx], color='k')\n",
    "\n",
    "    plt.ylim([-90,90])\n",
    "    plt.yticks([-90,-45,0,45,90])\n",
    "    plt.title(names[j])\n",
    "\n",
    "\n",
    "plt.tight_layout()\n",
    "plt.show()"
   ]
  },
  {
   "cell_type": "markdown",
   "metadata": {},
   "source": [
    "# Extrapolating to higher degrees"
   ]
  },
  {
   "cell_type": "code",
   "execution_count": null,
   "metadata": {},
   "outputs": [],
   "source": [
    "lmax, lmax_new = 4, 10\n",
    "coeffs_ex = db.extrapolate_model(lmax, lmax_new, gauss_coeffs[reversal_idx,:,:])\n",
    "\n",
    "R = db.power_spectra(4,gauss_coeffs[reversal_idx,:,:])\n",
    "R_ex = db.power_spectra(10,coeffs_ex)\n",
    "\n",
    "plt.plot(range(1,5),R,'bs-', label='IMMAB4')\n",
    "plt.plot(range(1,11),R_ex,'ro-', label='IMMAB4 extrapolated')\n",
    "plt.yscale('log')\n",
    "plt.xlabel('degree, l')\n",
    "plt.ylabel('Power [nT^2]')\n",
    "plt.legend(loc=0)\n",
    "plt.show()"
   ]
  },
  {
   "cell_type": "code",
   "execution_count": null,
   "metadata": {},
   "outputs": [],
   "source": [
    "\n",
    "lat, lon = np.linspace(89,-89,100), np.linspace(0,360,200)\n",
    "LON, LAT = np.meshgrid(lon,lat)\n",
    "\n",
    "\n",
    "Br, Bth, Bph = db.evaluate_B(gauss_coeffs[reversal_idx,:,:], lat, lon)\n",
    "\n",
    "print('Original model')\n",
    "ax = db.setup_map_figure()\n",
    "im, cbar = db.plot_contourf(ax,LAT,LON,Br, 40, cmap='jet')\n",
    "cbar.set_label('Br [nT]')\n",
    "plt.show()\n",
    "\n",
    "Br, Bth, Bph = db.evaluate_B(coeffs_ex[:,:], lat, lon)\n",
    "\n",
    "print('Extrapolated model')\n",
    "ax = db.setup_map_figure()\n",
    "im, cbar = db.plot_contourf(ax,LAT,LON,Br, 40, cmap='jet')\n",
    "cbar.set_label('Br [nT]')\n",
    "plt.show()\n"
   ]
  },
  {
   "cell_type": "code",
   "execution_count": null,
   "metadata": {},
   "outputs": [],
   "source": [
    "results = np.zeros((lmax_new,2))\n",
    "for i in range(1,lmax_new+1):\n",
    "\n",
    "    print('\\rCalculating degree {:.0f} ({:.1f}%)'.format(i,100*i/lmax_new),end='',flush=True)\n",
    "\n",
    "    dipole_rate, pol_ke, tor_ke = db.dipole_bound(lmax_new+1, i, coeffs_ex, 13,\n",
    "                                                    toroidal_only=False,save_files=False)\n",
    "\n",
    "    results[i-1,0] = dipole_rate\n",
    "\n",
    "    dipole_rate, pol_ke, tor_ke = db.dipole_bound(lmax_new+1, i, coeffs_ex, 13,\n",
    "                                                    toroidal_only=True, save_files=False)\n",
    "\n",
    "    results[i-1,1] = dipole_rate\n",
    "\n",
    "plt.plot(range(1,lmax_new+1), results[:,0], 'bo-', label='Unconstrained')\n",
    "plt.plot(range(1,lmax_new+1), results[:,1], 'ro-', label='Toroidal')\n",
    "plt.xlabel('Degree, l')\n",
    "plt.xticks(range(1,lmax_new+1))\n",
    "plt.ylabel('Axial dipole ROC / nT/year')\n",
    "plt.title('Extrapolated model')\n",
    "plt.legend(loc=0)\n",
    "plt.show()"
   ]
  },
  {
   "cell_type": "code",
   "execution_count": null,
   "metadata": {},
   "outputs": [],
   "source": [
    "if os.path.isfile('IMMAB4_roc_ex.txt'):\n",
    "    data = np.genfromtxt('IMMAB4_roc_ex.txt',skip_header=1)\n",
    "    age = data[:,0]\n",
    "    results = data[:,1:]\n",
    "else:\n",
    "    print('IMMAB4_roc_ex.txt does not exist, recalculating...')\n",
    "      \n",
    "    lmax = 4\n",
    "    lmax_new = 10\n",
    "    results = np.zeros((age.size,2))\n",
    "    for i in range(age.size):\n",
    "\n",
    "        print('\\rCalculating age {:.1f} ({:.1f}%)'.format(age[i],100*(i+1)/len(age)),end='',flush=True)\n",
    "\n",
    "        model = db.extrapolate_model(lmax,lmax_new,gauss_coeffs[i,:,:])\n",
    "        dipole_rate, pol_ke, tor_ke = db.dipole_bound(lmax_new+1,lmax_new, model, 13,\n",
    "                                                      toroidal_only=False,save_files=False)\n",
    "\n",
    "        results[i,0] = dipole_rate\n",
    "\n",
    "        dipole_rate, pol_ke, tor_ke = db.dipole_bound(lmax_new+1,lmax_new, model, 13,\n",
    "                                                      toroidal_only=True, save_files=False)\n",
    "\n",
    "        results[i,1] = dipole_rate\n",
    "\n",
    "    np.savetxt('IMMAB4_roc_ex.txt',np.hstack((age.reshape((len(age),1)),results)),header='age\\tunconstrained\\ttoroidal',delimiter='\\t')\n",
    "\n"
   ]
  },
  {
   "cell_type": "code",
   "execution_count": null,
   "metadata": {},
   "outputs": [],
   "source": [
    "plt.plot(age,results[:,0],label='Unconstrained')\n",
    "plt.plot(age,results[:,1],label='Toroidal only')\n",
    "\n",
    "reversal_idx = int(np.arange(age.size)[np.abs(gauss_coeffs[:,0,0])==np.min(np.abs(gauss_coeffs[:,0,0]))])\n",
    "plt.axvline(x=age[reversal_idx],color='k',label='g10 reversal')\n",
    "\n",
    "plt.xlabel('Age / ka')\n",
    "plt.ylabel('nT/yr')\n",
    "plt.title('Axial Dipole optimised rate of change')\n",
    "plt.legend(loc=0)\n",
    "plt.show()\n",
    "\n",
    "print('Rate at reversal age for unconstrained (toroidal) flow: {:.0f} ({:.0f}) nT/year  or  {:.0f} ({:.0f}) nT in 100 years'.format(float(results[reversal_idx,0]), float(results[reversal_idx,1]), float(100*results[reversal_idx,0]), float(100*results[reversal_idx,1])))"
   ]
  },
  {
   "cell_type": "code",
   "execution_count": null,
   "metadata": {},
   "outputs": [],
   "source": [
    "results.shape"
   ]
  },
  {
   "cell_type": "code",
   "execution_count": null,
   "metadata": {},
   "outputs": [],
   "source": []
  },
  {
   "cell_type": "code",
   "execution_count": null,
   "metadata": {},
   "outputs": [],
   "source": []
  }
 ],
 "metadata": {
  "file_extension": ".py",
  "kernelspec": {
   "display_name": "Python 3.7.3 64-bit ('dipole_reversal': conda)",
   "language": "python",
   "name": "python37364bitdipolereversalconda8cdcef44fa79491d8640cf81007ac5e3"
  },
  "language_info": {
   "codemirror_mode": {
    "name": "ipython",
    "version": 3
   },
   "file_extension": ".py",
   "mimetype": "text/x-python",
   "name": "python",
   "nbconvert_exporter": "python",
   "pygments_lexer": "ipython3",
   "version": "3.7.3"
  },
  "mimetype": "text/x-python",
  "name": "python",
  "npconvert_exporter": "python",
  "pygments_lexer": "ipython3",
  "version": 3
 },
 "nbformat": 4,
 "nbformat_minor": 2
}
